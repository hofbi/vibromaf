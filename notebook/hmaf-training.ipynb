{
 "cells": [
  {
   "cell_type": "code",
   "execution_count": null,
   "metadata": {},
   "outputs": [],
   "source": [
    "%load_ext autoreload"
   ]
  },
  {
   "cell_type": "code",
   "execution_count": null,
   "metadata": {},
   "outputs": [],
   "source": [
    "%autoreload 2\n",
    "\n",
    "import itertools\n",
    "import sys\n",
    "from pathlib import Path\n",
    "\n",
    "import numpy as np\n",
    "\n",
    "try:\n",
    "    sys.path.append(str(Path().cwd().parent))\n",
    "except IndexError:\n",
    "    pass\n",
    "\n",
    "from vibromaf import config\n",
    "from vibromaf.util import matlab, model\n",
    "from vibromaf.util.common import print_metric, print_mse_and_pc"
   ]
  },
  {
   "cell_type": "code",
   "execution_count": null,
   "metadata": {},
   "outputs": [],
   "source": [
    "test_indices = [\n",
    "    0,  # Aluminum Grid - fast\n",
    "    5,  # Polyester Pad - slower\n",
    "]\n",
    "\n",
    "nsnr_train, nsnr_test = matlab.load_data_for_metric(\"NSNR\", test_indices)\n",
    "sim_train, sim_test = matlab.load_data_for_metric(\"SIM\", test_indices)\n",
    "spqi_train, spqi_test = matlab.load_data_for_metric(\"SPQI\", test_indices)\n",
    "\n",
    "input_train = np.array([nsnr_train, sim_train, spqi_train]).transpose()\n",
    "input_test = np.array([nsnr_test, sim_test, spqi_test]).transpose()\n",
    "\n",
    "output_train, output_test = matlab.load_data_for_metric(\"InterNormRating\", test_indices)"
   ]
  },
  {
   "cell_type": "code",
   "execution_count": null,
   "metadata": {},
   "outputs": [],
   "source": [
    "regressor = model.make_vibromaf_pipeline()\n",
    "\n",
    "regressor.fit(input_train, output_train)"
   ]
  },
  {
   "cell_type": "code",
   "execution_count": null,
   "metadata": {},
   "outputs": [],
   "source": [
    "print_metric(\"Training Score R2\", regressor.score(input_train, output_train))\n",
    "print_metric(\"Test Score R2\", regressor.score(input_test, output_test))"
   ]
  },
  {
   "cell_type": "code",
   "execution_count": null,
   "metadata": {},
   "outputs": [],
   "source": [
    "output_prediction = regressor.predict(input_test)\n",
    "print_mse_and_pc(\"vibromaf test\", output_test / 10, output_prediction / 10)"
   ]
  },
  {
   "cell_type": "code",
   "execution_count": null,
   "metadata": {
    "pycharm": {
     "name": "#%%\n"
    }
   },
   "outputs": [],
   "source": [
    "print_mse_and_pc(\"SPQI test\", output_test / 10, spqi_test)\n",
    "print_mse_and_pc(\"SIM test\", output_test / 10, sim_test)\n",
    "print_mse_and_pc(\"NSNR test\", output_test / 10, nsnr_test)"
   ]
  },
  {
   "cell_type": "code",
   "execution_count": null,
   "metadata": {},
   "outputs": [],
   "source": [
    "test_per_codec = matlab.split_per_codec(output_test)\n",
    "vibromaf_per_codec = matlab.split_per_codec(output_prediction)\n",
    "nsnr_per_codec = matlab.split_per_codec(nsnr_test)\n",
    "sim_per_codec = matlab.split_per_codec(sim_test)\n",
    "spqi_per_codec = matlab.split_per_codec(spqi_test)\n",
    "\n",
    "print_mse_and_pc(\n",
    "    \"vibromaf test VC-PWQ\", test_per_codec[0] / 10, vibromaf_per_codec[0] / 10\n",
    ")\n",
    "print_mse_and_pc(\"SPQI test VC-PWQ\", test_per_codec[0] / 10, spqi_per_codec[0])\n",
    "print_mse_and_pc(\"SIM test VC-PWQ\", test_per_codec[0] / 10, sim_per_codec[0])\n",
    "print_mse_and_pc(\"NSNR test VC-PWQ\", test_per_codec[0] / 10, nsnr_per_codec[0])\n",
    "print()\n",
    "\n",
    "print_mse_and_pc(\n",
    "    \"vibromaf test PVC-SLP\", test_per_codec[1] / 10, vibromaf_per_codec[1] / 10\n",
    ")\n",
    "print_mse_and_pc(\"SPQI test PVC-SLP\", test_per_codec[1] / 10, spqi_per_codec[1])\n",
    "print_mse_and_pc(\"SIM test PVC-SLP\", test_per_codec[1] / 10, sim_per_codec[1])\n",
    "print_mse_and_pc(\"NSNR test PVC-SLP\", test_per_codec[1] / 10, nsnr_per_codec[1])\n",
    "print()\n",
    "\n",
    "print_mse_and_pc(\n",
    "    \"vibromaf test VPC-DS\", test_per_codec[2] / 10, vibromaf_per_codec[2] / 10\n",
    ")\n",
    "print_mse_and_pc(\"SPQI test VPC-DS\", test_per_codec[2] / 10, spqi_per_codec[2])\n",
    "print_mse_and_pc(\"SIM test VPC-DS\", test_per_codec[2] / 10, sim_per_codec[2])\n",
    "print_mse_and_pc(\"NSNR test VPC-DS\", test_per_codec[2] / 10, nsnr_per_codec[2])"
   ]
  },
  {
   "cell_type": "code",
   "execution_count": null,
   "metadata": {},
   "outputs": [],
   "source": [
    "model.save_model(regressor, config.MODEL_PATH / \"vibromaf-v1.pickle\")"
   ]
  },
  {
   "cell_type": "code",
   "execution_count": null,
   "metadata": {},
   "outputs": [],
   "source": [
    "def test_for_indices(test_indices):\n",
    "    nsnr_train, nsnr_test = matlab.load_data_for_metric(\"NSNR\", test_indices)\n",
    "    sim_train, sim_test = matlab.load_data_for_metric(\"SIM\", test_indices)\n",
    "    spqi_train, spqi_test = matlab.load_data_for_metric(\"SPQI\", test_indices)\n",
    "\n",
    "    input_train = np.array([nsnr_train, sim_train, spqi_train]).transpose()\n",
    "    input_test = np.array([nsnr_test, sim_test, spqi_test]).transpose()\n",
    "\n",
    "    output_train, output_test = matlab.load_data_for_metric(\n",
    "        \"InterNormRating\", test_indices\n",
    "    )\n",
    "\n",
    "    regressor = model.make_vibromaf_pipeline()\n",
    "\n",
    "    regressor.fit(input_train, output_train)\n",
    "\n",
    "    output_prediction = regressor.predict(input_test)\n",
    "    print_mse_and_pc(\n",
    "        f\"vibromaf test {test_indices}\", output_test / 10, output_prediction / 10\n",
    "    )\n",
    "    print()"
   ]
  },
  {
   "cell_type": "code",
   "execution_count": null,
   "metadata": {},
   "outputs": [],
   "source": [
    "test_indices = list(itertools.combinations(range(8), 2))\n",
    "\n",
    "for index in test_indices:\n",
    "    test_for_indices(index)"
   ]
  }
 ],
 "metadata": {
  "kernelspec": {
   "display_name": "Python 3.10.6 64-bit",
   "language": "python",
   "name": "python3"
  },
  "language_info": {
   "codemirror_mode": {
    "name": "ipython",
    "version": 3
   },
   "file_extension": ".py",
   "mimetype": "text/x-python",
   "name": "python",
   "nbconvert_exporter": "python",
   "pygments_lexer": "ipython3",
   "version": "3.10.6"
  },
  "vscode": {
   "interpreter": {
    "hash": "31f2aee4e71d21fbe5cf8b01ff0e069b9275f58929596ceb00d14d90e3e16cd6"
   }
  }
 },
 "nbformat": 4,
 "nbformat_minor": 2
}
