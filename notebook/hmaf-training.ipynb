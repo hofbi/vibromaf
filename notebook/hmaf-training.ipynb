{
 "cells": [
  {
   "cell_type": "code",
   "execution_count": null,
   "metadata": {},
   "outputs": [],
   "source": [
    "%load_ext autoreload"
   ]
  },
  {
   "cell_type": "code",
   "execution_count": null,
   "metadata": {},
   "outputs": [],
   "source": [
    "%autoreload 2\n",
    "\n",
    "import sys\n",
    "from pathlib import Path\n",
    "import numpy as np\n",
    "\n",
    "try:\n",
    "    sys.path.append(str(Path().cwd().parent))\n",
    "except IndexError:\n",
    "    pass\n",
    "\n",
    "from vibromaf.util import matlab\n",
    "from vibromaf.util import model\n",
    "from vibromaf.util.common import *\n",
    "from vibromaf import config"
   ]
  },
  {
   "cell_type": "code",
   "execution_count": null,
   "metadata": {},
   "outputs": [],
   "source": [
    "test_indices = [\n",
    "    0,  # Aluminum Grid - fast\n",
    "    5,  # Polyester Pad - slower\n",
    "]\n",
    "\n",
    "NSNR_train, NSNR_test = matlab.load_data_for_metric(\"NSNR\", test_indices)\n",
    "SIM_train, SIM_test = matlab.load_data_for_metric(\"SIM\", test_indices)\n",
    "SPQI_train, SPQI_test = matlab.load_data_for_metric(\"SPQI\", test_indices)\n",
    "\n",
    "input_train = np.array([NSNR_train, SIM_train, SPQI_train]).transpose()\n",
    "input_test = np.array([NSNR_test, SIM_test, SPQI_test]).transpose()\n",
    "\n",
    "output_train, output_test = matlab.load_data_for_metric(\"InterNormRating\", test_indices)"
   ]
  },
  {
   "cell_type": "code",
   "execution_count": null,
   "metadata": {},
   "outputs": [],
   "source": [
    "regressor = model.make_vibromaf_pipeline()\n",
    "\n",
    "regressor.fit(input_train, output_train)"
   ]
  },
  {
   "cell_type": "code",
   "execution_count": null,
   "metadata": {},
   "outputs": [],
   "source": [
    "print_metirc(\"Training Score R2\", regressor.score(input_train, output_train))\n",
    "print_metirc(\"Test Score R2\", regressor.score(input_test, output_test))"
   ]
  },
  {
   "cell_type": "code",
   "execution_count": null,
   "metadata": {},
   "outputs": [],
   "source": [
    "output_prediction = regressor.predict(input_test)\n",
    "print_mse_and_pc(\"vibromaf test\", output_test / 10, output_prediction / 10)"
   ]
  },
  {
   "cell_type": "code",
   "execution_count": null,
   "metadata": {
    "pycharm": {
     "name": "#%%\n"
    }
   },
   "outputs": [],
   "source": [
    "print_mse_and_pc(\"SPQI test\", output_test / 10, SPQI_test)\n",
    "print_mse_and_pc(\"SIM test\", output_test / 10, SIM_test)\n",
    "print_mse_and_pc(\"NSNR test\", output_test / 10, NSNR_test)"
   ]
  },
  {
   "cell_type": "code",
   "execution_count": null,
   "metadata": {},
   "outputs": [],
   "source": [
    "test_per_codec = matlab.split_per_codec(output_test)\n",
    "vibromaf_per_codec = matlab.split_per_codec(output_prediction)\n",
    "nsnr_per_codec = matlab.split_per_codec(NSNR_test)\n",
    "sim_per_codec = matlab.split_per_codec(SIM_test)\n",
    "spqi_per_codec = matlab.split_per_codec(SPQI_test)\n",
    "\n",
    "print_mse_and_pc(\n",
    "    \"vibromaf test VC-PWQ\", test_per_codec[0] / 10, vibromaf_per_codec[0] / 10\n",
    ")\n",
    "print_mse_and_pc(\"SPQI test VC-PWQ\", test_per_codec[0] / 10, spqi_per_codec[0])\n",
    "print_mse_and_pc(\"SIM test VC-PWQ\", test_per_codec[0] / 10, sim_per_codec[0])\n",
    "print_mse_and_pc(\"NSNR test VC-PWQ\", test_per_codec[0] / 10, nsnr_per_codec[0])\n",
    "print()\n",
    "\n",
    "print_mse_and_pc(\n",
    "    \"vibromaf test PVC-SLP\", test_per_codec[1] / 10, vibromaf_per_codec[1] / 10\n",
    ")\n",
    "print_mse_and_pc(\"SPQI test PVC-SLP\", test_per_codec[1] / 10, spqi_per_codec[1])\n",
    "print_mse_and_pc(\"SIM test PVC-SLP\", test_per_codec[1] / 10, sim_per_codec[1])\n",
    "print_mse_and_pc(\"NSNR test PVC-SLP\", test_per_codec[1] / 10, nsnr_per_codec[1])\n",
    "print()\n",
    "\n",
    "print_mse_and_pc(\n",
    "    \"vibromaf test VPC-DS\", test_per_codec[2] / 10, vibromaf_per_codec[2] / 10\n",
    ")\n",
    "print_mse_and_pc(\"SPQI test VPC-DS\", test_per_codec[2] / 10, spqi_per_codec[2])\n",
    "print_mse_and_pc(\"SIM test VPC-DS\", test_per_codec[2] / 10, sim_per_codec[2])\n",
    "print_mse_and_pc(\"NSNR test VPC-DS\", test_per_codec[2] / 10, nsnr_per_codec[2])"
   ]
  },
  {
   "cell_type": "code",
   "execution_count": null,
   "metadata": {},
   "outputs": [],
   "source": [
    "model.save_model(regressor, config.MODEL_PATH / \"vibromaf-v1.pickle\")"
   ]
  },
  {
   "cell_type": "code",
   "execution_count": null,
   "metadata": {},
   "outputs": [],
   "source": [
    "def test_for_indices(test_indices):\n",
    "    NSNR_train, NSNR_test = matlab.load_data_for_metric(\"NSNR\", test_indices)\n",
    "    SIM_train, SIM_test = matlab.load_data_for_metric(\"SIM\", test_indices)\n",
    "    SPQI_train, SPQI_test = matlab.load_data_for_metric(\"SPQI\", test_indices)\n",
    "\n",
    "    input_train = np.array([NSNR_train, SIM_train, SPQI_train]).transpose()\n",
    "    input_test = np.array([NSNR_test, SIM_test, SPQI_test]).transpose()\n",
    "\n",
    "    output_train, output_test = matlab.load_data_for_metric(\n",
    "        \"InterNormRating\", test_indices\n",
    "    )\n",
    "\n",
    "    regressor = model.make_vibromaf_pipeline()\n",
    "\n",
    "    regressor.fit(input_train, output_train)\n",
    "\n",
    "    output_prediction = regressor.predict(input_test)\n",
    "    print_mse_and_pc(\n",
    "        f\"vibromaf test {test_indices}\", output_test / 10, output_prediction / 10\n",
    "    )\n",
    "    print()"
   ]
  },
  {
   "cell_type": "code",
   "execution_count": null,
   "metadata": {},
   "outputs": [],
   "source": [
    "import itertools\n",
    "\n",
    "test_indices = list(itertools.combinations(range(8), 2))\n",
    "\n",
    "for index in test_indices:\n",
    "    test_for_indices(index)"
   ]
  }
 ],
 "metadata": {
  "interpreter": {
   "hash": "3e99bb4db9aa5b763c3a1fc587352d3fed7dfa3820da9aef2f154cfed8c55719"
  },
  "kernelspec": {
   "display_name": "Python 3.8.10 64-bit ('venv': venv)",
   "name": "python3"
  },
  "language_info": {
   "codemirror_mode": {
    "name": "ipython",
    "version": 3
   },
   "file_extension": ".py",
   "mimetype": "text/x-python",
   "name": "python",
   "nbconvert_exporter": "python",
   "pygments_lexer": "ipython3",
   "version": "3.8.10"
  },
  "orig_nbformat": 4
 },
 "nbformat": 4,
 "nbformat_minor": 2
}
