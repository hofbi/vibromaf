{
 "cells": [
  {
   "cell_type": "code",
   "execution_count": null,
   "metadata": {},
   "outputs": [],
   "source": [
    "%load_ext autoreload"
   ]
  },
  {
   "cell_type": "code",
   "execution_count": null,
   "metadata": {},
   "outputs": [],
   "source": [
    "%autoreload 2\n",
    "\n",
    "import sys\n",
    "from pathlib import Path\n",
    "import numpy as np\n",
    "import matplotlib.pyplot as plt\n",
    "import tikzplotlib\n",
    "import re\n",
    "\n",
    "try:\n",
    "    sys.path.append(str(Path().cwd().parent))\n",
    "except IndexError:\n",
    "    pass\n",
    "\n",
    "from vibromaf.util import matlab\n",
    "from vibromaf.util import model\n",
    "from vibromaf.util.common import *\n",
    "from vibromaf import config"
   ]
  },
  {
   "cell_type": "code",
   "execution_count": null,
   "metadata": {},
   "outputs": [],
   "source": [
    "FIGURE_PATH = config.PROJECT_ROOT_PATH / \"paper\" / \"figures\""
   ]
  },
  {
   "cell_type": "code",
   "execution_count": null,
   "metadata": {},
   "outputs": [],
   "source": [
    "test_indices = [\n",
    "    # list(range(8))  # evaluate for all signals\n",
    "    0,  # Aluminum Grid - fast\n",
    "    5,  # Polyester Pad - slower\n",
    "]\n",
    "\n",
    "SNR = matlab.load_data_for_metric(\"SNR\", test_indices=test_indices)[1]\n",
    "SIM = matlab.load_data_for_metric(\"SIM\", test_indices=test_indices)[1]\n",
    "SPQI = matlab.load_data_for_metric(\"SPQI\", test_indices=test_indices)[1]\n",
    "\n",
    "vibromaf_input = np.array([SNR, SIM, SPQI]).transpose()\n",
    "\n",
    "reference = matlab.load_data_for_metric(\"InterNormRating\", test_indices=test_indices)[1]"
   ]
  },
  {
   "cell_type": "code",
   "execution_count": null,
   "metadata": {},
   "outputs": [],
   "source": [
    "regressor = model.load_model(config.MODEL_PATH / \"vibromaf-v1.pickle\")"
   ]
  },
  {
   "cell_type": "code",
   "execution_count": null,
   "metadata": {},
   "outputs": [],
   "source": [
    "prediction = regressor.predict(vibromaf_input)\n",
    "print_mse_and_pc(\"vibromaf\", reference / 10, prediction / 10)"
   ]
  },
  {
   "cell_type": "code",
   "execution_count": null,
   "metadata": {},
   "outputs": [],
   "source": [
    "reference_per_codec = matlab.split_per_codec(reference)\n",
    "vibromaf_per_codec = matlab.split_per_codec(prediction)\n",
    "\n",
    "spqi_per_codec = matlab.split_per_codec(SPQI)\n",
    "stsim_per_codec = matlab.split_per_codec(SIM)"
   ]
  },
  {
   "cell_type": "code",
   "execution_count": null,
   "metadata": {},
   "outputs": [],
   "source": [
    "vcpwq_ref = np.flip(\n",
    "    np.mean(matlab.reshape_per_compression_rate(reference_per_codec[0]), axis=1) / 10\n",
    ")\n",
    "vcpwq_ref_std = np.flip(\n",
    "    np.std(matlab.reshape_per_compression_rate(reference_per_codec[0]), axis=1) / 10\n",
    ")\n",
    "vcpwq_vibromaf = np.flip(\n",
    "    np.mean(matlab.reshape_per_compression_rate(vibromaf_per_codec[0]), axis=1) / 10\n",
    ")\n",
    "\n",
    "pvcslp_ref = np.flip(\n",
    "    np.mean(matlab.reshape_per_compression_rate(reference_per_codec[1]), axis=1) / 10\n",
    ")\n",
    "pvcslp_ref_std = np.flip(\n",
    "    np.std(matlab.reshape_per_compression_rate(reference_per_codec[1]), axis=1) / 10\n",
    ")\n",
    "pvcslp_vibromaf = np.flip(\n",
    "    np.mean(matlab.reshape_per_compression_rate(vibromaf_per_codec[1]), axis=1) / 10\n",
    ")\n",
    "\n",
    "vpcds_ref = np.flip(\n",
    "    np.mean(matlab.reshape_per_compression_rate(reference_per_codec[2]), axis=1) / 10\n",
    ")\n",
    "vpcds_ref_std = np.flip(\n",
    "    np.std(matlab.reshape_per_compression_rate(reference_per_codec[2]), axis=1) / 10\n",
    ")\n",
    "vpcds_vibromaf = np.flip(\n",
    "    np.mean(matlab.reshape_per_compression_rate(vibromaf_per_codec[2]), axis=1) / 10\n",
    ")"
   ]
  },
  {
   "cell_type": "code",
   "execution_count": null,
   "metadata": {},
   "outputs": [],
   "source": [
    "cr_vcpwq = np.flip(\n",
    "    np.mean(\n",
    "        matlab.load_signal_from_mat(config.DATA_PATH / \"CR_VCPWQ.mat\", \"CR_VCPWQ\"),\n",
    "        axis=1,\n",
    "    )\n",
    ")\n",
    "cr_pvcslp = np.flip(\n",
    "    np.mean(\n",
    "        matlab.load_signal_from_mat(config.DATA_PATH / \"CR_PVCSLP.mat\", \"CR_PVCSLP\"),\n",
    "        axis=1,\n",
    "    )\n",
    ")\n",
    "cr_vpcds = np.flip(\n",
    "    np.mean(\n",
    "        matlab.load_signal_from_mat(config.DATA_PATH / \"CR_VPCDS.mat\", \"CR_VPCDS\"),\n",
    "        axis=1,\n",
    "    )\n",
    ")"
   ]
  },
  {
   "cell_type": "code",
   "execution_count": null,
   "metadata": {},
   "outputs": [],
   "source": [
    "plt.plot(cr_vcpwq, vcpwq_ref, \"b-\", label=\"VC-PWQ, Rating\")\n",
    "plt.plot(cr_vcpwq, vcpwq_vibromaf, \"b--\", label=\"VC-PWQ, VibroMAF\")\n",
    "\n",
    "plt.plot(cr_pvcslp, pvcslp_ref, \"g-\", label=\"PVC-SLP, Rating\")\n",
    "plt.plot(cr_pvcslp, pvcslp_vibromaf, \"g--\", label=\"PVC-SLP, VibroMAF\")\n",
    "\n",
    "plt.plot(cr_vpcds, vpcds_ref, \"r-\", label=\"VPC-DS, Rating\")\n",
    "plt.plot(cr_vpcds, vpcds_vibromaf, \"r--\", label=\"VPC-DS, VibroMAF\")\n",
    "\n",
    "plt.xlim(0, 50)\n",
    "plt.ylim(0, 1)\n",
    "plt.xlabel(\"Compression Ratio\")\n",
    "plt.ylabel(\"VibroMAF Score\")\n",
    "plt.legend()\n",
    "plt.grid()\n",
    "\n",
    "tikzplotlib.save(FIGURE_PATH / \"vibromaf-per-codec.tex\")"
   ]
  },
  {
   "cell_type": "code",
   "execution_count": null,
   "metadata": {},
   "outputs": [],
   "source": [
    "vcpwq_sqpi = np.flip(\n",
    "    np.mean(matlab.reshape_per_compression_rate(spqi_per_codec[0]), axis=1)\n",
    ")\n",
    "vcpwq_stsim = np.flip(\n",
    "    np.mean(matlab.reshape_per_compression_rate(stsim_per_codec[0]), axis=1)\n",
    ")\n",
    "\n",
    "pvcslp_sqpi = np.flip(\n",
    "    np.mean(matlab.reshape_per_compression_rate(spqi_per_codec[1]), axis=1)\n",
    ")\n",
    "pvcslp_stsim = np.flip(\n",
    "    np.mean(matlab.reshape_per_compression_rate(stsim_per_codec[1]), axis=1)\n",
    ")\n",
    "\n",
    "vpcds_sqpi = np.flip(\n",
    "    np.mean(matlab.reshape_per_compression_rate(spqi_per_codec[2]), axis=1)\n",
    ")\n",
    "vpcds_stsim = np.flip(\n",
    "    np.mean(matlab.reshape_per_compression_rate(stsim_per_codec[2]), axis=1)\n",
    ")"
   ]
  },
  {
   "cell_type": "code",
   "execution_count": null,
   "metadata": {},
   "outputs": [],
   "source": [
    "plt.plot(cr_vcpwq, vcpwq_ref, \"b-\", label=\"VC-PWQ, Rating\")\n",
    "plt.plot(cr_vcpwq, vcpwq_sqpi, \"b--\", label=\"VC-PWQ, SPQI\")\n",
    "plt.plot(cr_vcpwq, vcpwq_stsim, \"b-.\", label=\"VC-PWQ, ST-SIM\")\n",
    "\n",
    "plt.plot(cr_pvcslp, pvcslp_ref, \"g-\", label=\"PVC-SLP, Rating\")\n",
    "plt.plot(cr_pvcslp, pvcslp_sqpi, \"g--\", label=\"PVC-SLP, SPQI\")\n",
    "plt.plot(cr_pvcslp, pvcslp_stsim, \"g-.\", label=\"PVC-SLP, ST-SIM\")\n",
    "\n",
    "plt.plot(cr_vpcds, vpcds_ref, \"r-\", label=\"VPC-DS, Rating\")\n",
    "plt.plot(cr_vpcds, vpcds_sqpi, \"r--\", label=\"VPC-DS, SPQI\")\n",
    "plt.plot(cr_vpcds, vpcds_stsim, \"r-.\", label=\"VPC-DS, ST-SIM\")\n",
    "\n",
    "plt.xlim(0, 50)\n",
    "plt.ylim(0, 1)\n",
    "plt.xlabel(\"Compression Ratio\")\n",
    "plt.ylabel(\"Score\")\n",
    "plt.legend()\n",
    "plt.grid()\n",
    "\n",
    "tikzplotlib.save(FIGURE_PATH / \"metric-per-codec.tex\")"
   ]
  },
  {
   "cell_type": "code",
   "execution_count": null,
   "metadata": {},
   "outputs": [],
   "source": [
    "plt.errorbar(\n",
    "    cr_vcpwq, vcpwq_ref, yerr=vcpwq_ref_std, fmt=\"b-\", capsize=3, label=\"VC-PWQ\"\n",
    ")\n",
    "plt.fill_between(\n",
    "    cr_vcpwq,\n",
    "    vcpwq_ref - vcpwq_ref_std,\n",
    "    vcpwq_ref + vcpwq_ref_std,\n",
    "    facecolor=\"b\",\n",
    "    alpha=0.3,\n",
    ")\n",
    "plt.errorbar(\n",
    "    cr_pvcslp, pvcslp_ref, yerr=pvcslp_ref_std, fmt=\"g-\", capsize=3, label=\"PVC-SLP\"\n",
    ")\n",
    "plt.fill_between(\n",
    "    cr_pvcslp,\n",
    "    pvcslp_ref - pvcslp_ref_std,\n",
    "    pvcslp_ref + pvcslp_ref_std,\n",
    "    facecolor=\"g\",\n",
    "    alpha=0.3,\n",
    ")\n",
    "plt.errorbar(\n",
    "    cr_vpcds, vpcds_ref, yerr=vpcds_ref_std, fmt=\"r-\", capsize=3, label=\"VPC-DS\"\n",
    ")\n",
    "plt.fill_between(\n",
    "    cr_vpcds,\n",
    "    vpcds_ref - vpcds_ref_std,\n",
    "    vpcds_ref + vpcds_ref_std,\n",
    "    facecolor=\"r\",\n",
    "    alpha=0.3,\n",
    ")\n",
    "\n",
    "plt.xlim(0, 50)\n",
    "plt.ylim(0, 1)\n",
    "plt.xlabel(\"Compression Ratio\")\n",
    "plt.ylabel(\"Score\")\n",
    "plt.legend()\n",
    "plt.grid()\n",
    "\n",
    "tikzplotlib.save(FIGURE_PATH / \"rating-per-codec.tex\")"
   ]
  },
  {
   "cell_type": "code",
   "execution_count": null,
   "metadata": {},
   "outputs": [],
   "source": [
    "def insert_header_template(file: Path):\n",
    "    text = file.read_text()\n",
    "    result = re.sub(\n",
    "        r\"\\\\begin{axis}\\[\\n(.[^\\]]*)\\]\", r\"\\\\input{figures/plot-header.tex}\", text\n",
    "    )\n",
    "    file.write_text(result)\n",
    "\n",
    "\n",
    "insert_header_template(FIGURE_PATH / \"vibromaf-per-codec.tex\")\n",
    "insert_header_template(FIGURE_PATH / \"metric-per-codec.tex\")\n",
    "insert_header_template(FIGURE_PATH / \"rating-per-codec.tex\")"
   ]
  }
 ],
 "metadata": {
  "interpreter": {
   "hash": "3e99bb4db9aa5b763c3a1fc587352d3fed7dfa3820da9aef2f154cfed8c55719"
  },
  "kernelspec": {
   "display_name": "Python 3.8.10 64-bit ('venv': venv)",
   "name": "python3"
  },
  "language_info": {
   "codemirror_mode": {
    "name": "ipython",
    "version": 3
   },
   "file_extension": ".py",
   "mimetype": "text/x-python",
   "name": "python",
   "nbconvert_exporter": "python",
   "pygments_lexer": "ipython3",
   "version": "3.8.10"
  },
  "orig_nbformat": 4
 },
 "nbformat": 4,
 "nbformat_minor": 2
}
